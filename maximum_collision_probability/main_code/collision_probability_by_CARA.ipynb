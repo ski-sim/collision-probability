{
 "cells": [
  {
   "attachments": {},
   "cell_type": "markdown",
   "metadata": {},
   "source": [
    "## **CARA collision probabiity 2D**\n",
    "procedure\n",
    "1. tle : space-track\n",
    "2. dimension : DISCOSweb (esa)\n",
    "3. CARA matlab code 이용, 확률 계산 </br>\n",
    "\n",
    "참고 : TCA, HBR은 알고 있다는 전제하에 계산됨."
   ]
  },
  {
   "cell_type": "markdown",
   "metadata": {},
   "source": [
    "## **import**"
   ]
  },
  {
   "cell_type": "code",
   "execution_count": 1,
   "metadata": {},
   "outputs": [],
   "source": [
    "from sgp4.api import Satrec, jday\n",
    "import numpy as np\n",
    "from datetime import timedelta, datetime\n",
    "import requests\n",
    "import json\n",
    "import configparser\n",
    "import requests"
   ]
  },
  {
   "cell_type": "markdown",
   "metadata": {},
   "source": [
    "## **function**"
   ]
  },
  {
   "cell_type": "code",
   "execution_count": 2,
   "metadata": {},
   "outputs": [],
   "source": [
    "#string을 datetime으로 변환\n",
    "def str_to_datetime(date_str):\n",
    "    return datetime.strptime(date_str, '%Y-%m-%d %H:%M:%S')\n",
    "\n",
    "# TLE 데이터를 통해 특정 시점의 statevector 계산\n",
    "def get_state_ECI(current_epoch, tle_line1, tle_line2):\n",
    "    \n",
    "\n",
    "    yr, mon, day = current_epoch.year, current_epoch.month, current_epoch.day\n",
    "    hour, min, sec = current_epoch.hour, current_epoch.minute, current_epoch.second\n",
    "    jd, fr = jday(yr, mon, day, hour, min, sec)\n",
    "\n",
    "    satellite = Satrec.twoline2rv(tle_line1, tle_line2) \n",
    "    e, r, v = satellite.sgp4(jd,fr)\n",
    "    position_np=np.array(r)\n",
    "    velocity_np=np.array(v)\n",
    "    return position_np, velocity_np\n",
    "\n",
    "# spack-track TLE 주소를 넣고, 특정 feature 불러오기\n",
    "def get_tle_element(feature, uri_base=\"https://www.space-track.org\", request_login = \"/ajaxauth/login\", request_cmd_action = \"/basicspacedata/query\"):\n",
    "    param=feature\n",
    "    # set of satellite ids of objects included in TLE data\n",
    "    SATNO_LIST = []\n",
    "\n",
    "    # Use configparser package to pull in the ini file (pip install configparser)\n",
    "    config = configparser.ConfigParser()\n",
    "    config.read(\"./Login.ini\")\n",
    "    configUsr = config.get(\"configuration\", \"username\")\n",
    "    configPwd = config.get(\"configuration\", \"password\")\n",
    "    siteCred = {'identity': configUsr, 'password': configPwd}\n",
    "\n",
    "    with requests.Session() as session:\n",
    "        # run the session in a with block to force session to close if we exit\n",
    "\n",
    "        # need to log in first. note that we get a 200 to say the web site got the data, not that we are logged in\n",
    "        response = session.post(uri_base + request_login, data=siteCred)\n",
    "        if response.status_code != 200:\n",
    "            print(\"Error, POST fail on login\")\n",
    "\n",
    "        # this query picks up objects from the catalog. Note - a 401 failure shows you have bad credentials\n",
    "        response = session.get(uri_base + request_cmd_action + request_find_objects)\n",
    "        if response.status_code != 200:\n",
    "            print(\"Error, GET fail on request\")\n",
    "            \n",
    "\n",
    "        data = json.loads(response.text)\n",
    "        for object in data:\n",
    "            SATNO = object[f'{feature}']\n",
    "            SATNO_LIST.append(SATNO)\n",
    "    \n",
    "        session.close()\n",
    "        SATNO_LIST=np.array(SATNO_LIST).reshape(-1,1)\n",
    "    return list(SATNO_LIST.flatten()) \n",
    "\n",
    "# ECI 좌표를 NTW로 변환\n",
    "def calculate_trasformation_matrix_eci_to_ntw(true_position, true_velocity):\n",
    "    t_axis = true_velocity/np.linalg.norm(true_velocity)\n",
    "\n",
    "    rv_eci = np.cross(true_position, true_velocity)\n",
    "    w_axis = rv_eci/np.linalg.norm(rv_eci)\n",
    "\n",
    "    n_axis = np.cross(t_axis,w_axis)\n",
    "\n",
    "    trasformation_matrix_ntw =(np.vstack((t_axis, n_axis, w_axis)))\n",
    "\n",
    "    return trasformation_matrix_ntw\n",
    "\n",
    "# ECI 좌표를 RSW로 변환\n",
    "def calculate_trasformation_matrix_eci_to_rsw(true_position, true_velocity):\n",
    "    r_axis = true_position/np.linalg.norm(true_position)\n",
    "    rv_eci = np.cross(true_position, true_velocity)\n",
    "    w_axis = rv_eci/np.linalg.norm(rv_eci)\n",
    "    s_axis=np.cross(w_axis,r_axis)\n",
    "\n",
    "    trasformation_matrix_rsw = (np.vstack((r_axis, s_axis, w_axis)))\n",
    "    return trasformation_matrix_rsw\n",
    "   \n",
    "# 현재시점을 기준으로 과거 14일 tle 데이터로 공분산 계산\n",
    "def calculate_covariance(satno):\n",
    "\n",
    "    current_date = (datetime.now()) \n",
    "\n",
    "    start_date = str(current_date-timedelta(days=14))\n",
    "    end_date = str(current_date) #종료일\n",
    "    global request_find_objects\n",
    "    request_find_objects = r= f\"/class/tle/EPOCH/>{start_date}%2C<{end_date}/NORAD_CAT_ID/{satno}/orderby/EPOCH%20asc\"\n",
    "\n",
    "    epoch = get_tle_element(\"EPOCH\")\n",
    "    tle_line1 = get_tle_element(\"TLE_LINE1\")\n",
    "    tle_line2 = get_tle_element(\"TLE_LINE2\")\n",
    "\n",
    "    epoch_date = np.vectorize(str_to_datetime)(epoch) #datetime으로 변환.\n",
    "    recent_epoch = epoch_date[-1] # 가장 최근시점을 기준으로 삼음\n",
    "    N = epoch_date.size \n",
    "    position_residual_list =[]\n",
    "    state_vector_list = []\n",
    "    true_position, true_velocity = get_state_ECI(recent_epoch, tle_line1[-1], tle_line2[-1])\n",
    "    tranformation_matrix_rsw = calculate_trasformation_matrix_eci_to_rsw(true_position, true_velocity)\n",
    "\n",
    "    for i in range(N-1): \n",
    "        current_position, current_velocity = get_state_ECI(recent_epoch, tle_line1[i], tle_line2[i])\n",
    "        position_residual = current_position-true_position\n",
    "        velocity_residual = current_velocity-true_velocity\n",
    "\n",
    "        state_matrix_rsw = tranformation_matrix_rsw @ np.transpose(np.vstack((position_residual,velocity_residual)))\n",
    "\n",
    "        position_rsw ,velocity_rsw= state_matrix_rsw[:,0], state_matrix_rsw[:,1]\n",
    "    \n",
    "        state_vector = position_rsw.tolist()\n",
    "        state_vector.extend(velocity_rsw.tolist())\n",
    "        state_vector_list.append(state_vector)\n",
    "\n",
    "\n",
    "        position_residual_list.append((tuple(position_rsw))) \n",
    "    covariance = np.transpose(state_vector_list - np.mean(state_vector_list,axis=0))@(state_vector_list - np.mean(state_vector_list,axis=0))/len(state_vector_list)\n",
    "    recent_tle_line1 = tle_line1[-1]\n",
    "    recent_tle_line2 = tle_line2[-1]\n",
    "    return recent_tle_line1, recent_tle_line2, covariance"
   ]
  },
  {
   "attachments": {},
   "cell_type": "markdown",
   "metadata": {},
   "source": [
    "## **object 선정 후 공분산 계산**\n",
    "STARLINK-5626 VS SL-8 DEB "
   ]
  },
  {
   "cell_type": "code",
   "execution_count": 3,
   "metadata": {},
   "outputs": [],
   "source": [
    "primary_id = 49437\n",
    "secondary_id =  34542\n",
    "\n",
    "primary_recent_tle_line1, primary_recent_tle_line2, primary_covariance = calculate_covariance(primary_id)\n",
    "secondary_recent_tle_line1, secondary_recent_tle_line2,secondary_covariance = calculate_covariance(secondary_id)"
   ]
  },
  {
   "attachments": {},
   "cell_type": "markdown",
   "metadata": {},
   "source": [
    "## **matlab 엔진을 vscode로 연결**"
   ]
  },
  {
   "cell_type": "code",
   "execution_count": 4,
   "metadata": {},
   "outputs": [],
   "source": [
    "import matlab.engine\n",
    "eng=matlab.engine.start_matlab()"
   ]
  },
  {
   "cell_type": "code",
   "execution_count": 5,
   "metadata": {},
   "outputs": [],
   "source": [
    "TCA = str_to_datetime(\"2024-01-30 05:07:58\")\n",
    "\n",
    "yr, mon, day = TCA.year, TCA.month, TCA.day\n",
    "hour, min, sec = TCA.hour, TCA.minute, TCA.second\n",
    "jd, fr = jday(yr, mon, day, hour, min, sec)\n",
    "\n",
    "satellite1 = Satrec.twoline2rv(primary_recent_tle_line1, primary_recent_tle_line2) \n",
    "e1, r1, v1 = satellite1.sgp4(jd,fr)\n",
    "satellite2 = Satrec.twoline2rv(secondary_recent_tle_line1, secondary_recent_tle_line2) \n",
    "e2, r2, v2 = satellite2.sgp4(jd,fr)\n",
    "\n",
    "r1      = matlab.double(list(r1)) \n",
    "v1      = matlab.double(list(v1)) \n",
    "r2      = matlab.double(list(r2))\n",
    "v2      = matlab.double(list(v2))\n",
    "cov1    = matlab.double(list(primary_covariance))\n",
    "cov2    = matlab.double(list(secondary_covariance))\n",
    "HBR     = 2.22 \n",
    "Tol     = 1e-09\n",
    "HBRType = 'squareEquArea' # 영역설정 방법 : 직사각형으로 계산\n",
    "empty_cov=matlab.double(np.zeros((3,3)))"
   ]
  },
  {
   "attachments": {},
   "cell_type": "markdown",
   "metadata": {},
   "source": [
    "## **확률 계산**"
   ]
  },
  {
   "cell_type": "code",
   "execution_count": 6,
   "metadata": {},
   "outputs": [
    {
     "name": "stdout",
     "output_type": "stream",
     "text": [
      "Maximum Pc: 6.22001114708281e-06\n",
      "Maximum Pc(empty): 6.22001114708281e-06\n",
      "Foster Pc: 0.0\n"
     ]
    }
   ],
   "source": [
    "# matlab 함수 위치 설정\n",
    "eng.addpath('C:/Users/VDRC/Documents/MATLAB/single_covariance_maximum_Pc/Main/ProbabilityOfCollisionCode',nargout=0)\n",
    "print(\"Maximum Pc:\",eng.FrisbeeMaxPc(r1,v1,cov1,r2,v2,cov2,HBR,Tol,HBRType)) \n",
    "print(\"Maximum Pc(empty):\",eng.FrisbeeMaxPc(r1,v1,cov1,r2,v2,empty_cov,HBR,Tol,HBRType)) \n",
    "print(\"Foster Pc:\",eng.Pc2D_Foster(r1,v1,cov1,r2,v2,cov2,HBR,Tol,HBRType)) "
   ]
  },
  {
   "attachments": {},
   "cell_type": "markdown",
   "metadata": {},
   "source": [
    "## **예제**"
   ]
  },
  {
   "cell_type": "code",
   "execution_count": 32,
   "metadata": {},
   "outputs": [],
   "source": [
    "r1      = matlab.double([378.39559, 4305.721887, 5752.767554])\n",
    "v1      = matlab.double([2.360800244, 5.580331936, -4.322349039])\n",
    "r2      = matlab.double([374.5180598, 4307.560983, 5751.130418])\n",
    "v2      = matlab.double([-5.388125081, -3.946827739, 3.322820358])\n",
    "cov1    = matlab.double([[44.5757544811362,  81.6751751052616,  -67.8687662707124],\n",
    "           [81.6751751052616,  158.453402956163,  -128.616921644857],\n",
    "           [-67.8687662707124, -128.616921644858, 105.490542562701]])\n",
    "cov2    = matlab.double([[2.31067077720423,  1.69905293875632  ,-1.4170164577661],\n",
    "             [1.69905293875632,  1.24957388457206 , -1.04174164279599],\n",
    "            [-1.4170164577661  ,-1.04174164279599, 0.869260558223714]])\n",
    "HBR     = 0.020\n",
    "Tol     = 1e-09\n",
    "HBRType = 'squareEquArea'\n",
    "#Pc      = 2.70601573490093e-05"
   ]
  },
  {
   "cell_type": "code",
   "execution_count": 33,
   "metadata": {},
   "outputs": [
    {
     "name": "stdout",
     "output_type": "stream",
     "text": [
      "Maximum Pc: 0.0005538545701407567\n",
      "Maximum Pc(empty): 3.143832451361428e-05\n",
      "Foster Pc: 2.7060157349009515e-05\n"
     ]
    }
   ],
   "source": [
    "# matlab 함수 위치 설정\n",
    "eng.addpath('C:/Users/VDRC/Documents/MATLAB/single_covariance_maximum_Pc/Main/ProbabilityOfCollisionCode',nargout=0)\n",
    "print(\"Maximum Pc:\",eng.FrisbeeMaxPc(r1,v1,cov1,r2,v2,cov2,HBR,Tol,HBRType)) \n",
    "print(\"Maximum Pc(empty):\",eng.FrisbeeMaxPc(r1,v1,cov1,r2,v2,empty_cov,HBR,Tol,HBRType)) \n",
    "print(\"Foster Pc:\",eng.Pc2D_Foster(r1,v1,cov1,r2,v2,cov2,HBR,Tol,HBRType)) "
   ]
  }
 ],
 "metadata": {
  "kernelspec": {
   "display_name": "Python 3",
   "language": "python",
   "name": "python3"
  },
  "language_info": {
   "codemirror_mode": {
    "name": "ipython",
    "version": 3
   },
   "file_extension": ".py",
   "mimetype": "text/x-python",
   "name": "python",
   "nbconvert_exporter": "python",
   "pygments_lexer": "ipython3",
   "version": "3.10.11"
  },
  "orig_nbformat": 4
 },
 "nbformat": 4,
 "nbformat_minor": 2
}
