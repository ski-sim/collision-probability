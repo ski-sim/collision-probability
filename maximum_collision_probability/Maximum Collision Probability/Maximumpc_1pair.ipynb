{
 "cells": [
  {
   "attachments": {},
   "cell_type": "markdown",
   "metadata": {},
   "source": [
    "1. celestrak에서 위성번호 가져오고\n",
    "2. space-track에서 tle 가져와서 공분산 계산\n",
    "3. 확률 계산 </br>\n",
    "TCA, HBR은 알고 있다는 전제하에 계산됨."
   ]
  },
  {
   "cell_type": "code",
   "execution_count": 1,
   "metadata": {},
   "outputs": [],
   "source": [
    "from sgp4.api import Satrec\n",
    "from sgp4.api import jday\n",
    "from astropy.time import Time\n",
    "import matplotlib.pyplot as plt\n",
    "import numpy as np\n",
    "from astropy.coordinates import SkyCoord, TEME\n",
    "from datetime import timedelta, datetime\n",
    "import pandas as pd\n",
    "import requests\n",
    "import json\n",
    "import configparser\n",
    "import requests"
   ]
  },
  {
   "cell_type": "markdown",
   "metadata": {},
   "source": [
    "## 함수정의"
   ]
  },
  {
   "cell_type": "code",
   "execution_count": 13,
   "metadata": {},
   "outputs": [],
   "source": [
    "#string을 datetime으로 변환\n",
    "def str_to_datetime(date_str):\n",
    "\n",
    "    return datetime.strptime(date_str, '%Y-%m-%d %H:%M:%S')\n",
    "# TLE데이터를 통해 datetime시점에서의 statevector 계산\n",
    "def get_state_ECI(epoch_target, TLE_Line1, TLE_Line2,i):\n",
    "    target_day=epoch_target\n",
    "    firstLine=TLE_Line1\n",
    "    secondLine=TLE_Line2\n",
    "\n",
    "    yr, mon, day = target_day.year, target_day.month, target_day.day\n",
    "    hour, min, sec = target_day.hour, target_day.minute, target_day.second\n",
    "    jd, fr = jday(yr, mon, day, hour, min, sec)\n",
    "\n",
    "    satellite = Satrec.twoline2rv(firstLine[i],secondLine[i]) \n",
    "    e, r, v = satellite.sgp4(jd,fr)\n",
    "    r_np=np.array(r)\n",
    "    v_np=np.array(v)\n",
    "    return r_np, v_np\n",
    "# spack-track TLE 주소를 넣고, 특정 feature 불러오기\n",
    "def get_tle_element(feature,requestFindObjects):\n",
    "    param=feature\n",
    "    r_f_d = requestFindObjects\n",
    "    # set of satellite ids of objects included in TLE data\n",
    "    SATNO_LIST = []\n",
    "\n",
    "    # Use configparser package to pull in the ini file (pip install configparser)\n",
    "    config = configparser.ConfigParser()\n",
    "    config.read(\"./Login.ini\")\n",
    "    configUsr = config.get(\"configuration\", \"username\")\n",
    "    configPwd = config.get(\"configuration\", \"password\")\n",
    "    siteCred = {'identity': configUsr, 'password': configPwd}\n",
    "\n",
    "    with requests.Session() as session:\n",
    "        # run the session in a with block to force session to close if we exit\n",
    "\n",
    "        # need to log in first. note that we get a 200 to say the web site got the data, not that we are logged in\n",
    "        response = session.post(uriBase + requestLogin, data=siteCred)\n",
    "        if response.status_code != 200:\n",
    "            print(\"Error, POST fail on login\")\n",
    "\n",
    "        # this query picks up objects from the catalog. Note - a 401 failure shows you have bad credentials\n",
    "        response = session.get(uriBase + requestCmdAction + r_f_d)\n",
    "        if response.status_code != 200:\n",
    "            print(\"Error, GET fail on request\")\n",
    "\n",
    "        data = json.loads(response.text)\n",
    "        for object in data:\n",
    "            SATNO = object[f'{feature}']\n",
    "            SATNO_LIST.append(SATNO)\n",
    "    \n",
    "        session.close()\n",
    "        SATNO_LIST=np.array(SATNO_LIST).reshape(-1,1)\n",
    "    return SATNO_LIST \n",
    "\n",
    "'''\n",
    "세줄짜리 TLE 텍스트를 input\n",
    "space-track에서 tle를 가져오고 공분산 계산\n",
    "'''\n",
    "def covariance(Object_TLE):\n",
    "    obj = Object_TLE\n",
    "    objnum = int(obj[1][2:7])\n",
    "\n",
    "\n",
    "    startdate = \"2023-08-01\" #시작일\n",
    "    enddate = str(datetime.now()) #종료일\n",
    "    requestFindObjects = r= f\"/class/tle/EPOCH/>{startdate}%2C<{enddate}/NORAD_CAT_ID/{objnum}/orderby/EPOCH%20asc\"\n",
    "\n",
    "    # 필요한 feature 불러오기\n",
    "    EPOCH_total = get_tle_element(\"EPOCH\",requestFindObjects)\n",
    "    TLE_LINE1_total = get_tle_element(\"TLE_LINE1\",requestFindObjects)\n",
    "    TLE_LINE2_total = get_tle_element(\"TLE_LINE2\",requestFindObjects)\n",
    "    TLE_total = np.concatenate((EPOCH_total, TLE_LINE1_total, TLE_LINE2_total), axis=1)\n",
    "\n",
    "\n",
    "    epoch_total = [arr[0] for arr in TLE_total]\n",
    "    Line1_total = [arr[1] for arr in TLE_total]\n",
    "    Line2_total = [arr[2] for arr in TLE_total]\n",
    "\n",
    "    epoch_date_total = np.vectorize(str_to_datetime)(epoch_total) #datetime으로 변환.\n",
    "\n",
    "    # most recent 시점 찾기\n",
    "    jul_date = obj[1][18:32] # julian date\n",
    "    current_date_idx = 0 # Celestrak 충돌확률의 INPUT TLE의 위치.\n",
    "\n",
    "    for i in range(len(Line1_total)):\n",
    "        if Line1_total[i][18:32] == jul_date: #\"2023-09-05 00:53:04\"\n",
    "            current_date_idx = i\n",
    "            break\n",
    "\n",
    "    # 14 일 치 다시 받아오기\n",
    "    delta = timedelta(days=14)\n",
    "    startdate = str(epoch_date_total[current_date_idx]-delta)\n",
    "    enddate = str(epoch_date_total[current_date_idx+1]) #종료일\n",
    "    requestFindObjects_new = r= f\"/class/tle/EPOCH/>{startdate}%2C<{enddate}/NORAD_CAT_ID/{objnum}/orderby/EPOCH%20asc\"\n",
    "\n",
    "    EPOCH = get_tle_element(\"EPOCH\",requestFindObjects_new)\n",
    "    TLE_LINE1 = get_tle_element(\"TLE_LINE1\",requestFindObjects_new)\n",
    "    TLE_LINE2 = get_tle_element(\"TLE_LINE2\",requestFindObjects_new)\n",
    "    TLE=np.concatenate((EPOCH,TLE_LINE1, TLE_LINE2), axis=1)\n",
    "\n",
    "\n",
    "    epoch = [arr[0] for arr in TLE]\n",
    "    Line1 = [arr[1] for arr in TLE]\n",
    "    Line2 = [arr[2] for arr in TLE]\n",
    "\n",
    "    epoch_date = np.vectorize(str_to_datetime)(epoch) #datetime으로 변환.\n",
    "    \n",
    "    # 잔차구하기.\n",
    "    epoch_valid=epoch_date\n",
    "    most_recent_epoch = epoch_valid[-1] # 가장 최근시점을 예측한다.\n",
    "    N = epoch_valid.size #총 TLE 개수 24개 \n",
    "\n",
    "    delta_r = []\n",
    "    delta_v = []\n",
    "\n",
    "    true_position, true_velocity = get_state_ECI(most_recent_epoch, Line1, Line2, N-1)\n",
    "\n",
    "    for i in range(N-1): # 기준 시점은 제외.\n",
    "        r_ECI, v_ECI = get_state_ECI(most_recent_epoch, Line1, Line2,i)\n",
    "        r_residual = r_ECI-true_position\n",
    "        v_residual = v_ECI-true_velocity\n",
    "\n",
    "        r_residual = tuple(r_residual)\n",
    "        v_residual = tuple(v_residual)\n",
    "        \n",
    "        delta_r.append((r_residual)) #잔차 r\n",
    "        delta_v.append((v_residual)) #잔차 v\n",
    "    delta_r_np = np.array(delta_r) # 23 X 3\n",
    "    delta_v_np = np.array(delta_v) # 23 X 3\n",
    "    bar_X_epoch = np.hstack((delta_r_np, delta_v_np)) # 23 X 6\n",
    "\n",
    "    # 평균 계산\n",
    "    m = np.mean(bar_X_epoch,axis=0) # 1 X 6\n",
    "\n",
    "    a=bar_X_epoch-m\n",
    "\n",
    "    cov = np.zeros((6, 6))\n",
    "\n",
    "    for i in range(len(a)):\n",
    "        delta_X = np.array(a[i]).reshape(6, 1) # 6 X 1\n",
    "        delta_X_T = np.transpose(delta_X) # 1 X 6\n",
    "        temp = delta_X@delta_X_T # 6 X 6\n",
    "        cov += temp\n",
    "    return cov/len(a)"
   ]
  },
  {
   "attachments": {},
   "cell_type": "markdown",
   "metadata": {},
   "source": [
    "## Celestrak 에서 구하고 싶은 두 위성의 TLE 가져오기"
   ]
  },
  {
   "attachments": {},
   "cell_type": "markdown",
   "metadata": {},
   "source": [
    "STARLINK-5626 VS SL-8 DEB "
   ]
  },
  {
   "cell_type": "code",
   "execution_count": 3,
   "metadata": {},
   "outputs": [],
   "source": [
    "url =\"https://celestrak.org/SOCRATES/data.php?CATNR=55435,6396\" # Celestrak tle ( 2개 )\n",
    "\n",
    "r = requests.get(url)\n",
    "TLE_data=r.text\n",
    "TLE_split=TLE_data.split('\\n')\n",
    "my_TLE = [line.replace('\\r', '') for line in TLE_split]\n",
    "# TLE 나누기.\n",
    "Object1_TLE = my_TLE[:3]\n",
    "Object2_TLE = my_TLE[3:]"
   ]
  },
  {
   "cell_type": "markdown",
   "metadata": {},
   "source": [
    "## 공분산 계산하기 "
   ]
  },
  {
   "cell_type": "code",
   "execution_count": 14,
   "metadata": {},
   "outputs": [],
   "source": [
    "# julian_date 예상 범위에 있는 TLE 모두 긁어오기.\n",
    "uriBase = \"https://www.space-track.org\"\n",
    "requestLogin = \"/ajaxauth/login\"\n",
    "requestCmdAction = \"/basicspacedata/query\"\n",
    "\n",
    "cov1= covariance(Object1_TLE)\n",
    "cov2 = covariance(Object2_TLE)\n"
   ]
  },
  {
   "attachments": {},
   "cell_type": "markdown",
   "metadata": {},
   "source": [
    "# size 관련 정보 불러오기"
   ]
  },
  {
   "cell_type": "code",
   "execution_count": 9,
   "metadata": {},
   "outputs": [
    {
     "name": "stdout",
     "output_type": "stream",
     "text": [
      "(55435)\n",
      "(6396)\n"
     ]
    }
   ],
   "source": [
    "def get_discos_tle_objects(SATNO_CHUNK_STR):\n",
    "    response = requests.get(\n",
    "        f'{DISCOS_URL}/api/objects',\n",
    "        headers={\n",
    "            'Authorization': f'Bearer {DISCOS_TOKEN}',\n",
    "            'DiscosWeb-Api-Version': '2',\n",
    "        },\n",
    "        params={\n",
    "            'filter': f'in(satno,{SATNO_CHUNK_STR})',\n",
    "            'page[size]': f'{DISCOS_PAGE_SIZE_MAX}',\n",
    "            'sort': 'satno',            \n",
    "        }\n",
    "    )\n",
    "    doc = response.json()\n",
    "    DISCOS_OBJECTS = doc['data']\n",
    "    return DISCOS_OBJECTS\n",
    "\n",
    "DISCOS_URL = 'https://discosweb.esoc.esa.int'\n",
    "DISCOS_TOKEN = 'Ijk1YjRjMWYwLTc1ZDItNDc4NS04MzQ4LTgyZmM3MDk2M2IyYiI.lqet3mWHZooxHwUGaRqLBOTvYjI'\n",
    "DISCOS_SATNO_MAX = 56685\n",
    "DISCOS_PAGE_SIZE_MAX = 100\n",
    "\n",
    "objnum1 = int(Object1_TLE[1][2:7])\n",
    "objnum2 = int(Object2_TLE[1][2:7])\n",
    "List=[(objnum1),(objnum2)]\n",
    "obj_dict = dict()\n",
    "if __name__ == '__main__':\n",
    "    SATNO_LIST = List\n",
    "    for idx, chk in enumerate(List): # idx :  인덱스  chk: 값\n",
    "        \n",
    "        \n",
    "\n",
    "        SATNO_CHUNK_STR = '(' + str(chk) + ')'\n",
    "        print(SATNO_CHUNK_STR)\n",
    "        DISCOS_OBJECTS = get_discos_tle_objects(SATNO_CHUNK_STR)\n",
    "        for obj in DISCOS_OBJECTS:\n",
    "            obj_dict[obj['attributes']['satno']] = obj['attributes']\n",
    "       "
   ]
  },
  {
   "attachments": {},
   "cell_type": "markdown",
   "metadata": {},
   "source": [
    "# Matlab 활용/ 확률 계산"
   ]
  },
  {
   "cell_type": "code",
   "execution_count": 8,
   "metadata": {},
   "outputs": [],
   "source": [
    "import matlab.engine\n",
    "eng=matlab.engine.start_matlab()#시작하기\n",
    "# eng.desktop(nargout=0)# 동기화된 GUI 띄위기"
   ]
  },
  {
   "attachments": {},
   "cell_type": "markdown",
   "metadata": {},
   "source": [
    "celestrak의 TCA를 이용"
   ]
  },
  {
   "cell_type": "code",
   "execution_count": 10,
   "metadata": {},
   "outputs": [],
   "source": [
    "TCA = str_to_datetime(\"2023-09-07 13:08:50\")"
   ]
  },
  {
   "cell_type": "code",
   "execution_count": 25,
   "metadata": {},
   "outputs": [],
   "source": [
    "yr, mon, day = TCA.year, TCA.month, TCA.day\n",
    "hour, min, sec = TCA.hour, TCA.minute, TCA.second\n",
    "jd, fr = jday(yr, mon, day, hour, min, sec)\n",
    "\n",
    "satellite = Satrec.twoline2rv(Object1_TLE[1],Object1_TLE[2]) \n",
    "e1, r1, v1 = satellite.sgp4(jd,fr)\n",
    "satellite = Satrec.twoline2rv(Object2_TLE[1],Object2_TLE[2]) \n",
    "e2, r2, v2 = satellite.sgp4(jd,fr)\n",
    "\n",
    "r1      = matlab.double(list(r1)) \n",
    "v1      = matlab.double(list(v1)) \n",
    "r2      = matlab.double(list(r2))\n",
    "v2      = matlab.double(list(v2))\n",
    "cov1    = matlab.double(list(cov1))\n",
    "cov2    = matlab.double(list(cov2))\n",
    "HBR     = 2.22 \n",
    "Tol     = 1e-09\n",
    "HBRType = 'squareEquArea' # 영역설정 방법 : 직사각형으로 계산\n",
    "empty_cov=matlab.double(np.zeros((3,3)))"
   ]
  },
  {
   "attachments": {},
   "cell_type": "markdown",
   "metadata": {},
   "source": [
    "확률 계산"
   ]
  },
  {
   "cell_type": "code",
   "execution_count": 31,
   "metadata": {},
   "outputs": [
    {
     "name": "stdout",
     "output_type": "stream",
     "text": [
      "Maximum Pc: 0.0005538545701407567\n",
      "Maximum Pc(empty): 3.143832451361428e-05\n",
      "Foster Pc: 2.7060157349009515e-05\n"
     ]
    }
   ],
   "source": [
    "# matlab 함수 위치 설정\n",
    "eng.addpath('C:/Users/VDRC/Documents/MATLAB/single_covariance_maximum_Pc/Main/ProbabilityOfCollisionCode',nargout=0)\n",
    "print(\"Maximum Pc:\",eng.FrisbeeMaxPc(r1,v1,cov1,r2,v2,cov2,HBR,Tol,HBRType)) \n",
    "print(\"Maximum Pc(empty):\",eng.FrisbeeMaxPc(r1,v1,cov1,r2,v2,empty_cov,HBR,Tol,HBRType)) \n",
    "print(\"Foster Pc:\",eng.Pc2D_Foster(r1,v1,cov1,r2,v2,cov2,HBR,Tol,HBRType)) "
   ]
  },
  {
   "attachments": {},
   "cell_type": "markdown",
   "metadata": {},
   "source": [
    "예제"
   ]
  },
  {
   "cell_type": "code",
   "execution_count": 30,
   "metadata": {},
   "outputs": [],
   "source": [
    "r1      = matlab.double([378.39559, 4305.721887, 5752.767554])\n",
    "v1      = matlab.double([2.360800244, 5.580331936, -4.322349039])\n",
    "r2      = matlab.double([374.5180598, 4307.560983, 5751.130418])\n",
    "v2      = matlab.double([-5.388125081, -3.946827739, 3.322820358])\n",
    "cov1    = matlab.double([[44.5757544811362,  81.6751751052616,  -67.8687662707124],\n",
    "           [81.6751751052616,  158.453402956163,  -128.616921644857],\n",
    "           [-67.8687662707124, -128.616921644858, 105.490542562701]])\n",
    "cov2    = matlab.double([[2.31067077720423,  1.69905293875632  ,-1.4170164577661],\n",
    "             [1.69905293875632,  1.24957388457206 , -1.04174164279599],\n",
    "            [-1.4170164577661  ,-1.04174164279599, 0.869260558223714]])\n",
    "HBR     = 0.020\n",
    "Tol     = 1e-09\n",
    "HBRType = 'squareEquArea'\n",
    "\n",
    "#Pc      = 2.70601573490093e-05\n"
   ]
  }
 ],
 "metadata": {
  "kernelspec": {
   "display_name": "Python 3",
   "language": "python",
   "name": "python3"
  },
  "language_info": {
   "codemirror_mode": {
    "name": "ipython",
    "version": 3
   },
   "file_extension": ".py",
   "mimetype": "text/x-python",
   "name": "python",
   "nbconvert_exporter": "python",
   "pygments_lexer": "ipython3",
   "version": "3.10.11"
  },
  "orig_nbformat": 4
 },
 "nbformat": 4,
 "nbformat_minor": 2
}
