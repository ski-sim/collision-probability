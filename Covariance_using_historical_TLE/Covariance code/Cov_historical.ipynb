{
 "cells": [
  {
   "attachments": {},
   "cell_type": "markdown",
   "metadata": {},
   "source": [
    "1. 공분산 계산\n",
    "\n",
    "    1-1. spacetrack 에서 tle 가져오기\n",
    "\n",
    "    1-2. RIC, NTW 좌표계의 공분산 \n",
    "\n",
    "    1-3. 각각의 axis 마다  residual의  scatter\n",
    "\n",
    "2. residual variation"
   ]
  },
  {
   "attachments": {},
   "cell_type": "markdown",
   "metadata": {},
   "source": [
    "IMPORT"
   ]
  },
  {
   "cell_type": "code",
   "execution_count": 1,
   "metadata": {},
   "outputs": [],
   "source": [
    "from sgp4.api import Satrec\n",
    "from sgp4.api import jday\n",
    "import numpy as np\n",
    "from datetime import datetime\n",
    "import json\n",
    "import configparser\n",
    "import requests"
   ]
  },
  {
   "attachments": {},
   "cell_type": "markdown",
   "metadata": {},
   "source": [
    "필요함수 정의"
   ]
  },
  {
   "cell_type": "code",
   "execution_count": 20,
   "metadata": {},
   "outputs": [
    {
     "ename": "SyntaxError",
     "evalue": "invalid syntax (3913197807.py, line 20)",
     "output_type": "error",
     "traceback": [
      "\u001b[1;36m  Cell \u001b[1;32mIn[20], line 20\u001b[1;36m\u001b[0m\n\u001b[1;33m    def ECI_To_RSW(r_true, v_true,,r_ECI, v_ECI):\u001b[0m\n\u001b[1;37m                                  ^\u001b[0m\n\u001b[1;31mSyntaxError\u001b[0m\u001b[1;31m:\u001b[0m invalid syntax\n"
     ]
    }
   ],
   "source": [
    "# ECI 좌표를 NTW로 변환\n",
    "def ECI_To_NTW(r_true, v_true,r_ECI, v_ECI):\n",
    "    T = v_true/np.linalg.norm(v_true)\n",
    "\n",
    "    rv_ECI = np.cross(r_true, v_true)\n",
    "    W = rv_ECI/np.linalg.norm(rv_ECI)\n",
    "\n",
    "    N = np.cross(T,W)\n",
    "\n",
    "    # 3*3 X 3*2 =(N T W ) X ( r v )\n",
    "    # NTW = (np.vstack((T,N,W)))#VNC\n",
    "    NTW = np.linalg.inv(np.transpose(np.vstack((T,N,W)))) # 뭐가 맞냐...\n",
    "    state_ECI = np.transpose(np.vstack((r_ECI, v_ECI))) \n",
    "    state_NTW = NTW@state_ECI \n",
    "    r_NTW = state_NTW[:,0]\n",
    "    V_NTW = state_NTW[:,1]\n",
    "\n",
    "    return r_NTW, V_NTW # 변환된 좌표계로 보내줌.\n",
    "# ECI 좌표를 RSW로 변환\n",
    "def ECI_To_RSW(r_true, v_true,,r_ECI, v_ECI):\n",
    "    R = r_true/np.linalg.norm(r_true)\n",
    "    rv_ECI = np.cross(r_true, v_true)\n",
    "    W = rv_ECI/np.linalg.norm(rv_ECI)\n",
    "    S=np.cross(W,R)\n",
    "\n",
    "    RSW = (np.vstack((R,S,W)))\n",
    "    state_ECI = np.transpose(np.vstack((r_ECI,v_ECI)))\n",
    "    state_RSW = RSW@state_ECI\n",
    "\n",
    "    r_RSW = state_RSW[:,0]\n",
    "    V_RSW = state_RSW[:,1]\n",
    "\n",
    "    return r_RSW, V_RSW # 변환된 좌표계로 보내줌.\n",
    "# string을 datetime으로 변환\n",
    "def str_to_datetime(date_str):\n",
    "\n",
    "    return datetime.strptime(date_str, '%Y-%m-%d %H:%M:%S')\n",
    "# TLE데이터를 통해 datetime시점에서의 statevector 계산\n",
    "def get_state_ECI(epoch_target, TLE_Line1, TLE_Line2,i):\n",
    "    target_day=epoch_target\n",
    "    firstLine=TLE_Line1\n",
    "    secondLine=TLE_Line2\n",
    "\n",
    "    yr, mon, day = target_day.year, target_day.month, target_day.day\n",
    "    hour, min, sec = target_day.hour, target_day.minute, target_day.second\n",
    "    jd, fr = jday(yr, mon, day, hour, min, sec)\n",
    "\n",
    "    satellite = Satrec.twoline2rv(firstLine[i],secondLine[i]) \n",
    "    e, r, v = satellite.sgp4(jd,fr)\n",
    "    r_np=np.array(r)\n",
    "    v_np=np.array(v)\n",
    "    return r_np, v_np\n",
    "# spack-track TLE 주소를 알고 있는 상태에서 특정 feature 불러오기\n",
    "def get_tle_element(feature):\n",
    "    param=feature\n",
    "    # set of satellite ids of objects included in TLE data\n",
    "    SATNO_LIST = []\n",
    "\n",
    "    # Use configparser package to pull in the ini file (pip install configparser)\n",
    "    config = configparser.ConfigParser()\n",
    "    config.read(\"./Login.ini\")\n",
    "    configUsr = config.get(\"configuration\", \"username\")\n",
    "    configPwd = config.get(\"configuration\", \"password\")\n",
    "    siteCred = {'identity': configUsr, 'password': configPwd}\n",
    "\n",
    "    with requests.Session() as session:\n",
    "        # run the session in a with block to force session to close if we exit\n",
    "\n",
    "        # need to log in first. note that we get a 200 to say the web site got the data, not that we are logged in\n",
    "        response = session.post(uriBase + requestLogin, data=siteCred)\n",
    "        if response.status_code != 200:\n",
    "            print(\"Error, POST fail on login\")\n",
    "\n",
    "        # this query picks up objects from the catalog. Note - a 401 failure shows you have bad credentials\n",
    "        response = session.get(uriBase + requestCmdAction + requestFindObjects)\n",
    "        if response.status_code != 200:\n",
    "            print(\"Error, GET fail on request\")\n",
    "\n",
    "        data = json.loads(response.text)\n",
    "        for object in data:\n",
    "            SATNO = object[f'{feature}']\n",
    "            SATNO_LIST.append(SATNO)\n",
    "    \n",
    "        session.close()\n",
    "        SATNO_LIST=np.array(SATNO_LIST).reshape(-1,1)\n",
    "    return SATNO_LIST \n",
    "# 상삼각행렬 부분만 추출\n",
    "def upper_triangular_matrix_to_list(matrix):\n",
    "    # 행렬의 차원 (행과 열의 수) 가져오기\n",
    "    num_rows, num_cols = len(matrix), len(matrix[0])\n",
    "\n",
    "    upper_triangular_elements = []\n",
    "    for i in range(num_rows):\n",
    "        for j in range(i, num_cols):  # 주 대각선과 그 위의 요소만 저장\n",
    "            upper_triangular_elements.append(matrix[i][j])\n",
    "\n",
    "    return upper_triangular_elements\n",
    "# MAPE\n",
    "def calculate_mape(actual, predicted):\n",
    "    if len(actual) != len(predicted):\n",
    "        raise ValueError(\"두 리스트는 길이가 동일해야 합니다.\")\n",
    "\n",
    "    n = len(actual)\n",
    "    sum_percentage_errors = 0\n",
    "\n",
    "    for i in range(n):\n",
    "        if actual[i] != 0:  # 분모가 0이 아닌 경우에만 오차를 계산\n",
    "            absolute_error = abs(actual[i] - predicted[i])\n",
    "            percentage_error = (absolute_error / actual[i]) * 100\n",
    "            sum_percentage_errors += percentage_error\n",
    "\n",
    "    mape = sum_percentage_errors / n\n",
    "    return mape"
   ]
  },
  {
   "attachments": {},
   "cell_type": "markdown",
   "metadata": {},
   "source": [
    "## Target 위성 리스트"
   ]
  },
  {
   "attachments": {},
   "cell_type": "markdown",
   "metadata": {},
   "source": [
    "KOMPSAT-2"
   ]
  },
  {
   "cell_type": "code",
   "execution_count": 6,
   "metadata": {},
   "outputs": [],
   "source": [
    "uriBase = \"https://www.space-track.org\"\n",
    "requestLogin = \"/ajaxauth/login\"\n",
    "requestCmdAction = \"/basicspacedata/query\"\n",
    "\n",
    "objnum = 29268   #위성번호\n",
    "startdate = \"2011-09-12\" #시작일\n",
    "enddate = \"2011-09-27\" #종료일\n",
    "requestFindObjects = r= f\"/class/tle/EPOCH/>{startdate}%2C<{enddate}/NORAD_CAT_ID/{objnum}/orderby/EPOCH%20asc\""
   ]
  },
  {
   "attachments": {},
   "cell_type": "markdown",
   "metadata": {},
   "source": [
    "LAGEOS -1"
   ]
  },
  {
   "cell_type": "code",
   "execution_count": 3,
   "metadata": {},
   "outputs": [],
   "source": [
    "uriBase = \"https://www.space-track.org\"\n",
    "requestLogin = \"/ajaxauth/login\"\n",
    "requestCmdAction = \"/basicspacedata/query\"\n",
    "\n",
    "objnum = 8820   #위성번호\n",
    "startdate = \"2003-03-01\" #시작일\n",
    "enddate = \"2003-03-16\" #종료일\n",
    "requestFindObjects = r= f\"/class/tle/EPOCH/>{startdate}%2C<{enddate}/NORAD_CAT_ID/{objnum}/orderby/EPOCH%20asc\""
   ]
  },
  {
   "attachments": {},
   "cell_type": "markdown",
   "metadata": {},
   "source": [
    "HEO"
   ]
  },
  {
   "cell_type": "code",
   "execution_count": 154,
   "metadata": {},
   "outputs": [],
   "source": [
    "uriBase = \"https://www.space-track.org\"\n",
    "requestLogin = \"/ajaxauth/login\"\n",
    "requestCmdAction = \"/basicspacedata/query\"\n",
    "\n",
    "objnum = 28544   #위성번호\n",
    "startdate = \"2015-11-09\" #시작일\n",
    "enddate = \"2015-11-24\" #종료일\n",
    "requestFindObjects = r= f\"/class/tle/EPOCH/>{startdate}%2C<{enddate}/NORAD_CAT_ID/{objnum}/orderby/EPOCH%20asc\""
   ]
  },
  {
   "attachments": {},
   "cell_type": "markdown",
   "metadata": {},
   "source": [
    "LEO"
   ]
  },
  {
   "cell_type": "code",
   "execution_count": 3,
   "metadata": {},
   "outputs": [],
   "source": [
    "uriBase = \"https://www.space-track.org\"\n",
    "requestLogin = \"/ajaxauth/login\"\n",
    "requestCmdAction = \"/basicspacedata/query\"\n",
    "\n",
    "objnum=22675 #위성번호\n",
    "# startdate=\"2015-11-09\" #시작일\n",
    "startdate=\"2014-01-01\" #시작일\n",
    "enddate=\"2015-11-24\" #종료일\n",
    "requestFindObjects = r= f\"/class/tle/EPOCH/>{startdate}%2C<{enddate}/NORAD_CAT_ID/{objnum}/orderby/EPOCH%20asc\"\n"
   ]
  },
  {
   "attachments": {},
   "cell_type": "markdown",
   "metadata": {},
   "source": [
    "###  특정 위성의 historical TLE 데이터 가져오기"
   ]
  },
  {
   "cell_type": "code",
   "execution_count": 8,
   "metadata": {},
   "outputs": [],
   "source": [
    "\n",
    "EPOCH = get_tle_element(\"EPOCH\")\n",
    "TLE_LINE1 = get_tle_element(\"TLE_LINE1\")\n",
    "TLE_LINE2 = get_tle_element(\"TLE_LINE2\")\n",
    "TLE=np.concatenate((EPOCH,TLE_LINE1, TLE_LINE2), axis=1)\n",
    "\n",
    "\n",
    "epoch = [arr[0] for arr in TLE]\n",
    "Line1 = [arr[1] for arr in TLE]\n",
    "Line2 = [arr[2] for arr in TLE]\n",
    "\n",
    "epoch_valid = np.vectorize(str_to_datetime)(epoch) #datetime으로 변환.\n"
   ]
  },
  {
   "attachments": {},
   "cell_type": "markdown",
   "metadata": {},
   "source": [
    "# 1. 공분산"
   ]
  },
  {
   "attachments": {},
   "cell_type": "markdown",
   "metadata": {},
   "source": [
    "1. 과거 TLE 데이터를 통해서 현재 시점을 예측한 값\n",
    "2. 현재 TLE 데이터를 통해서 나온 값\n",
    "3. 잔차 계산 후 NTW or RSW로 변환\n",
    "3. 두 값의 잔차의 평균, 분산(공분산) 계산."
   ]
  },
  {
   "attachments": {},
   "cell_type": "markdown",
   "metadata": {},
   "source": [
    "residual 계산 후 변환"
   ]
  },
  {
   "attachments": {},
   "cell_type": "markdown",
   "metadata": {},
   "source": [
    "### (1) RSW 좌표계로 변환"
   ]
  },
  {
   "cell_type": "code",
   "execution_count": 9,
   "metadata": {},
   "outputs": [],
   "source": [
    "most_recent_epoch = epoch_valid[-1] # 가장 최근시점을 예측한다.\n",
    "N = epoch_valid.size #총 TLE 개수 24개 \n",
    "delta_r = []\n",
    "delta_v = []\n",
    "\n",
    "true_position, true_velocity = get_state_ECI(most_recent_epoch, Line1, Line2, N-1)\n",
    "\n",
    "for i in range(N-1): # 기준 시점은 제외.\n",
    "    r_ECI, v_ECI = get_state_ECI(most_recent_epoch, Line1, Line2,i)\n",
    "    r_residual = r_ECI-true_position\n",
    "    v_residual = v_ECI-true_velocity\n",
    "    r_RSW ,v_RSW= (ECI_To_RSW(true_position, true_velocity, r_residual, v_residual))\n",
    "\n",
    "    r_RSW = tuple(r_RSW)\n",
    "    v_RSW = tuple(v_RSW)\n",
    "    \n",
    "    delta_r.append((r_RSW)) #잔차 r\n",
    "    delta_v.append((v_RSW)) #잔차 v"
   ]
  },
  {
   "attachments": {},
   "cell_type": "markdown",
   "metadata": {},
   "source": [
    "### (2) NTW 좌표계로 변환"
   ]
  },
  {
   "cell_type": "code",
   "execution_count": 5,
   "metadata": {},
   "outputs": [],
   "source": [
    "most_recent_epoch = epoch_valid[-1] # 가장 최근시점을 예측한다.\n",
    "\n",
    "N = epoch_valid.size #총 TLE 개수 24개 \n",
    "\n",
    "delta_r = []\n",
    "delta_v = []\n",
    "\n",
    "true_position, true_velocity = get_state_ECI(most_recent_epoch, Line1, Line2, N-1)\n",
    "\n",
    "for i in range(N-1): # 기준 시점은 제외.\n",
    "    r_ECI, v_ECI = get_state_ECI(most_recent_epoch, Line1, Line2,i)\n",
    "    r_residual = r_ECI-true_position\n",
    "    v_residual = v_ECI-true_velocity\n",
    "    r_NTW ,v_NTW = (ECI_To_NTW(true_position, true_velocity, r_residual, v_residual))\n",
    "\n",
    "    r_NTW = tuple(r_NTW)\n",
    "    v_NTW = tuple(v_NTW)\n",
    "    \n",
    "    delta_r.append((r_NTW)) #잔차 r\n",
    "    delta_v.append((v_NTW)) #잔차 v\n"
   ]
  },
  {
   "attachments": {},
   "cell_type": "markdown",
   "metadata": {},
   "source": [
    "### 공분산 계산"
   ]
  },
  {
   "cell_type": "code",
   "execution_count": 10,
   "metadata": {},
   "outputs": [
    {
     "name": "stdout",
     "output_type": "stream",
     "text": [
      "0.0335596559758956   0.4179412913695162   -0.038041029863396116   -0.00046196376200459627   -3.6561156816757826e-05   -1.5248246977193375e-05   \n",
      "\n",
      "0.4179412913695162   18.830082059218334   -0.49901866027017644   -0.02030026128354143   -0.0004831327045917514   -0.00025409334045505694   \n",
      "\n",
      "-0.038041029863396116   -0.49901866027017644   0.045994422298648835   0.0005492720653050179   4.151192487625002e-05   1.6388766240420976e-05   \n",
      "\n",
      "-0.00046196376200459627   -0.02030026128354143   0.0005492720653050179   2.1891857769063736e-05   5.329758339638116e-07   2.7938906161703677e-07   \n",
      "\n",
      "-3.6561156816757826e-05   -0.0004831327045917514   4.151192487625002e-05   5.329758339638116e-07   3.9907594824467995e-08   1.6755156405070376e-08   \n",
      "\n",
      "-1.5248246977193375e-05   -0.00025409334045505694   1.6388766240420976e-05   2.7938906161703677e-07   1.6755156405070376e-08   8.659652194394976e-09   \n",
      "\n"
     ]
    }
   ],
   "source": [
    "delta_r_np = np.array(delta_r) # 23 X 3\n",
    "delta_v_np = np.array(delta_v) # 23 X 3\n",
    "bar_X_epoch = np.hstack((delta_r_np, delta_v_np)) # 23 X 6\n",
    "\n",
    "# 평균 계산\n",
    "m = np.mean(bar_X_epoch,axis=0) # 1 X 6\n",
    "\n",
    "a=bar_X_epoch-m\n",
    "\n",
    "covariance = np.zeros((6, 6))\n",
    "\n",
    "for i in range(len(a)):\n",
    "    delta_X = np.array(a[i]).reshape(6, 1) # 6 X 1\n",
    "    delta_X_T = np.transpose(delta_X) # 1 X 6\n",
    "    temp = delta_X@delta_X_T # 6 X 6\n",
    "    covariance += temp\n",
    "covariance = covariance/len(a)\n",
    "\n",
    "#공분산 출력하기\n",
    "for i in range(covariance.shape[0]):\n",
    "    for j in range(covariance.shape[1]):\n",
    "        print(f'{covariance[i,j]}   ',end=\"\")\n",
    "    print('\\n')"
   ]
  },
  {
   "attachments": {},
   "cell_type": "markdown",
   "metadata": {},
   "source": [
    "### MAPE 계산 ( 상삼각행렬 요소만 )"
   ]
  },
  {
   "cell_type": "code",
   "execution_count": 11,
   "metadata": {},
   "outputs": [
    {
     "name": "stdout",
     "output_type": "stream",
     "text": [
      "MAPE:95608.8064\n"
     ]
    }
   ],
   "source": [
    "# 상삼각행렬의 요소만 리스트로 변환\n",
    "cov1=upper_triangular_matrix_to_list(covariance)\n",
    "\n",
    "# 논문 계산 결과\n",
    "Komsat2_covariance = [0.034238,0.42645,-0.03883,-0.00047,-3.73e-05,-1.55e-05,19.222,-0.50948,-0.02072,-0.00049,-0.00026,\\\n",
    "                  4.70e-02,0.00056,4.24e-05,1.67e-5,2.23e-5,5.44e-07,2.85e-07,\\\n",
    "                    4.07e-08,1.71e-08,8.81e-09]\n",
    "Lageous_covariance=[0.378619709,-0.034359821,0.027715274,1.5511e-05,-0.000171498,-1.90966e-05,0.004002483,-0.002717183,\\\n",
    "                    -1.81855e-06,1.5463e-05,1.89775e-06,0.008430228,1.22177e-06,-1.21872e-05,-5.33055e-06,8.26397e-10,\\\n",
    "                        -6.9792e-09,-8.54481e-10,7.79043e-08,8.3125e-09,3.77679e-09]\n",
    "\n",
    "# 논문계산결과와 비교해 MAPE 계산\n",
    "print(f'MAPE:{round(calculate_mape(Lageous_covariance, cov1),4)}')"
   ]
  },
  {
   "attachments": {},
   "cell_type": "markdown",
   "metadata": {},
   "source": [
    "### 공분산 csv로 저장"
   ]
  },
  {
   "cell_type": "code",
   "execution_count": 15,
   "metadata": {},
   "outputs": [],
   "source": [
    "import pandas as pd\n",
    "row_index = ['R_v(km)', 'R_n(km)', 'R_c(km)','V_v(km/sec)', 'V_n(km/sec)', 'V_c(km/sec)']\n",
    "col_index = ['R_v(km)', 'R_n(km)', 'R_c(km)','V_v(km/sec)', 'V_n(km/sec)', 'V_c(km/sec)']\n",
    "# 배열을 데이터프레임으로 변환하고 인덱스를 설정\n",
    "covariance_6x6 = pd.DataFrame(covariance, index=row_index, columns=col_index)\n",
    "\n",
    "# CSV 파일에 쓰기\n",
    "covariance_6x6.to_csv('output.csv')"
   ]
  },
  {
   "attachments": {},
   "cell_type": "markdown",
   "metadata": {},
   "source": [
    "# 2. R, S, W 축별 residual variation Scatter"
   ]
  },
  {
   "cell_type": "code",
   "execution_count": 21,
   "metadata": {},
   "outputs": [],
   "source": [
    "N = epoch_valid.size #총 TLE 개수 24개 \n",
    "np.set_printoptions(formatter={'float': lambda x: \"{:.12f}\".format(x)})\n",
    "delta_r = []\n",
    "delta_v = []\n",
    "delta_t = []\n",
    "for i in range(N-1,-1,-1): # 기준 시점은 제외.\n",
    "    epoch_true = epoch_valid[i]\n",
    "    r_true, v_true = get_state_ECI(epoch_true, Line1, Line2,i)\n",
    "\n",
    "    for j in range(i-1):\n",
    "        epoch_estimate = epoch_valid[j]\n",
    "        timedelta = epoch_true -epoch_estimate\n",
    "        delta_t.append(timedelta.days+timedelta.seconds/(3600)/24) #시간구하고\n",
    "\n",
    "        r_estimate, v_estimate = get_state_ECI(epoch_true, Line1, Line2,j)\n",
    " \n",
    "        r_res = r_estimate-r_true\n",
    "        v_res = v_estimate-v_true\n",
    "        #RSW 또는 NTW 선택\n",
    "        r_RSW ,v_RSW= (ECI_To_RSW(r_true, v_true, r_res, v_res))\n",
    "        # r_RSW ,v_RSW= (ECI_To_NTW(r_true, v_true, r_res, v_res))\n",
    "\n",
    "        r_RSW=tuple(r_RSW)\n",
    "        v_RSW=tuple(v_RSW)\n",
    "    \n",
    "        delta_r.append((r_RSW)) #잔차 r\n",
    "        delta_v.append((v_RSW)) #잔차 v_RSW"
   ]
  },
  {
   "cell_type": "code",
   "execution_count": 22,
   "metadata": {},
   "outputs": [],
   "source": [
    "Radial = [arr[0] for arr in delta_r]\n",
    "Intrack = [arr[1] for arr in delta_r]\n",
    "Crosstrack = [arr[2] for arr in delta_r]"
   ]
  },
  {
   "cell_type": "code",
   "execution_count": 24,
   "metadata": {},
   "outputs": [
    {
     "data": {
      "image/png": "[encoded data removed]",
      "text/plain": [
       "<Figure size 800x200 with 1 Axes>"
      ]
     },
     "metadata": {},
     "output_type": "display_data"
    },
    {
     "data": {
      "image/png": "[encoded data removed]",
      "text/plain": [
       "<Figure size 800x200 with 1 Axes>"
      ]
     },
     "metadata": {},
     "output_type": "display_data"
    },
    {
     "data": {
      "image/png": "[encoded data removed]",
      "text/plain": [
       "<Figure size 800x200 with 1 Axes>"
      ]
     },
     "metadata": {},
     "output_type": "display_data"
    }
   ],
   "source": [
    "import matplotlib.pyplot as plt\n",
    "fig=plt.figure(figsize=(8,2))\n",
    "\n",
    "\n",
    "plt.scatter(delta_t,Intrack, s=2,label=\"In-track\")\n",
    "plt.xlim(0, 15)  # Subplot 1의 x축 눈금 설정\n",
    "plt.ylim(-20,10) # Subplot 1의 y축 눈금 설정\n",
    "plt.xlabel(\"Delta Epoch [days]\")\n",
    "plt.ylabel(\"Delta Position [km]\")\n",
    "plt.legend()\n",
    "\n",
    "fig=plt.figure(figsize=(8,2))\n",
    "plt.scatter(delta_t,Radial ,s=2,label=\"Radial\")\n",
    "plt.xlim(0, 15)   # Subplot 1의 x축 눈금 설정\n",
    "plt.ylim(-1,0.5) \n",
    "plt.xlabel(\"Delta Epoch [days]\")\n",
    "plt.ylabel(\"Delta Position [km]\")\n",
    "plt.legend()\n",
    "\n",
    "fig=plt.figure(figsize=(8,2))\n",
    "plt.scatter(delta_t,Crosstrack , s=2,label=\"Cross-track\")\n",
    "plt.xlim(0, 15)   # Subplot 1의 x축 눈금 설정\n",
    "plt.ylim(-2, 2) # Subplot 1의 y축 눈금 설정\n",
    "plt.xlabel(\"Delta Epoch [days]\")\n",
    "plt.ylabel(\"Delta Position [km]\")\n",
    "plt.legend()\n",
    "plt.show()"
   ]
  }
 ],
 "metadata": {
  "kernelspec": {
   "display_name": "Python 3",
   "language": "python",
   "name": "python3"
  },
  "language_info": {
   "codemirror_mode": {
    "name": "ipython",
    "version": 3
   },
   "file_extension": ".py",
   "mimetype": "text/x-python",
   "name": "python",
   "nbconvert_exporter": "python",
   "pygments_lexer": "ipython3",
   "version": "3.10.11"
  },
  "orig_nbformat": 4
 },
 "nbformat": 4,
 "nbformat_minor": 2
}
